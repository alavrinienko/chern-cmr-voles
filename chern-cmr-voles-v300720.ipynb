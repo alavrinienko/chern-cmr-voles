{
 "cells": [
  {
   "cell_type": "markdown",
   "metadata": {},
   "source": [
    "# Spatial and temporal stability of the bank vole gut microbiota in a disturbed environment\n",
    "\n",
    "\n",
    "## Abstract\n",
    "\n",
    "Gut microbiota play an important role in host health. Yet, the drivers and patterns of microbiota imbalance (dysbiosis) in wild animals remain largely unexplored. One hypothesised outcome of stress on animal microbiomes is a destabilised microbiota community that is characterised by an increase in inter-individual differences (i.e. higher beta diversity) compared with microbiomes of healthy animals, which are expected to be temporally stable and relatively similar among individuals (i.e. lower beta diversity). This set of predictions for response of microbiomes to stressors is known as the Anna Karenina principle (AKP) for animal microbiomes. We examine the AKP in a wild mammal experiencing environment stress by conducting a capture-mark-recapture survey of bank voles (*Myodes glareolus*) inhabiting areas that contrast in levels of radionuclide contamination (in Chernobyl, Ukraine). Counter to key predictions of the AKP, bank voles that are not exposed to radionuclides harbour diverse (high beta diversity) and temporally dynamic gut microbiota communities, presumably tracking the natural spatio-temporal variation in resources. Conversely, bank voles exposed to radionuclides host more similar gut microbiota communities that are temporally stable, potentially due to a dysbiosis or selection (on host or bacteria) imposed by chronic radiation exposure. The implication of these data is that environmental stress (radiation exposure) can constrain the natural spatial and temporal diversity of wild animal gut microbiota.\n",
    "\n",
    "### Analysis Notebook\n",
    "\n",
    "This notebook contains commands to process raw read data and reproduce the qiime2 analyses. This [repository](https://github.com/alavrinienko/chern-cmr-voles) provides the main data files, *i.e.* metadata and dada2 feature-tables, from which the rest of the data can be generated using the commands below. The raw sequence data are freely available through Qiita study ID 12325 or EBI-European Nucleotide Archive: [ERP114357](https://www.ebi.ac.uk/ena/data/view/ERP114357). To analyse the CMR bank voles microbiome data we used computing resources and infrastructure provided by [the Finnish Centre for Scientific Computing (CSC)](https://www.csc.fi/csc).\n",
    "\n",
    "### Requirements\n",
    "\n",
    "qiime2 is required to run most of the commands described below (the 2018.2 qiime2 version was used). To install qiime2 follow these instructions: https://docs.qiime2.org/2019.1/install/. To activate the qiime2 conda environment run: source activate qiime2-2019.1 (or the other version, *i.e.* 2018.2)."
   ]
  },
  {
   "cell_type": "markdown",
   "metadata": {},
   "source": [
    "## data import\n",
    "\n",
    "The total data set contains 28 bank vole individuals, sampled twice ('first' & 'second', the total n=56 samples) over the capture-mark-recapture experiment. The 250PE read data were generated using the Illumina MiSeq platform. First, we need to import sequencing data to use with the qiime2 via a manifest file. This will inform qiime about samples id's, full path and sequences direction (forward,reverse). See importing tutorials for the 'fastq manifest formats' [here](https://docs.qiime2.org/2018.2/tutorials/importing/#fastq-manifest-formats)."
   ]
  },
  {
   "cell_type": "code",
   "execution_count": null,
   "metadata": {},
   "outputs": [],
   "source": [
    "!qiime tools import \\\n",
    "    --type 'SampleData[PairedEndSequencesWithQuality]' \\\n",
    "    --input-path males_rt_manifest.txt \\\n",
    "    --source-format PairedEndFastqManifestPhred33 \\\n",
    "    --output-path malesrt_demux_paired-end.qza"
   ]
  },
  {
   "cell_type": "markdown",
   "metadata": {},
   "source": [
    "The fastq files were successfully imported into the working directory. We would want to summarize and visualize the data (imported into qiime2 *.qza* file)."
   ]
  },
  {
   "cell_type": "code",
   "execution_count": null,
   "metadata": {},
   "outputs": [],
   "source": [
    "!qiime demux summarize \\\n",
    "--i-data malesrt_demux_paired-end.qza \\\n",
    "--o-visualization malesrt_demux.qzv"
   ]
  },
  {
   "cell_type": "markdown",
   "metadata": {},
   "source": [
    "Examine the generated *.qzv* file in [qiime2 viewer](https://view.qiime2.org). Take a note on the sequence counts (amount of reads) per sample, how many total reads are available to qiime2 in the CMR data set, also check which samples have the lowest (and how many) number of reads and what is the mean/median amount of reads per sample.\n",
    "\n",
    "Then, examine the interactive quality plots, they display the reads quality in defined position according to the Phred33 qc format. The median quality score for both forward and reverse reads keeps over 36-37, however we also observe some quality drop in the end of the reverse reads. To ensure excellent data for the downstream analysis, we can leave forward as it is, but apply *truncation* for reverse reads at position 166, as in this case, the lowest quality at the bottom of the box will be 26.\n",
    "\n",
    "Of important note, these data are free of adapters and primers. These, including any other sequencing constucts were removed as a part of the sequencing facility service, so no additional trimming from the left needed."
   ]
  },
  {
   "cell_type": "markdown",
   "metadata": {},
   "source": [
    "## denoising and the amplicon sequence variants (ASVs) picking using dada2\n",
    "\n",
    "We used the [dada2](https://docs.qiime2.org/2018.2/plugins/available/dada2/denoise-paired/) implemented in qiime2 for denoising and the amplicon sequence variants (ASVs) picking. Adjust trimming settings within the dada2 based on the information from the quality plots generated above.\n",
    "\n",
    "Alternatively, continue from the metadata-related commands and examine the dada2 feature-table and the representative sequences that were used in the original analyses for the manuscript preparation. These files can be found in [this repository at GitHub](https://github.com/alavrinienko/chern-cmr-voles)."
   ]
  },
  {
   "cell_type": "code",
   "execution_count": null,
   "metadata": {},
   "outputs": [],
   "source": [
    "!qiime dada2 denoise-paired \\\n",
    "    --i-demultiplexed-seqs malesrt_demux_paired-end.qza \\\n",
    "    --p-trim-left-f 0 \\\n",
    "    --p-trunc-len-f 250 \\\n",
    "    --p-trim-left-r 0 \\\n",
    "    --p-trunc-len-r 166 \\\n",
    "    --p-n-threads 0 \\\n",
    "    --o-representative-sequences dada2_malesrt/malesrt2_rep-seqs-dada2.qza \\\n",
    "    --o-table dada2_malesrt/malesrt2_table-dada2.qza"
   ]
  },
  {
   "cell_type": "code",
   "execution_count": null,
   "metadata": {},
   "outputs": [],
   "source": [
    "!qiime feature-table summarize \\\n",
    "  --i-table dada2_malesrt/malesrt2_table-dada2.qza \\\n",
    "  --o-visualization dada2_malesrt/malesrt2_table-dada2.qzv \\\n",
    "  --m-sample-metadata-file metadata_malesrt.txt"
   ]
  },
  {
   "cell_type": "markdown",
   "metadata": {},
   "source": [
    "## metadata\n",
    "\n",
    "All the metadata associated with the samples in this study can be found [here](https://github.com/alavrinienko/chern-cmr-voles)."
   ]
  },
  {
   "cell_type": "code",
   "execution_count": null,
   "metadata": {},
   "outputs": [],
   "source": [
    "!qiime metadata tabulate \\\n",
    " --m-input-file metadata_malesrt.txt \\\n",
    " --o-visualization metadata_malesrt.qzv"
   ]
  },
  {
   "cell_type": "code",
   "execution_count": null,
   "metadata": {},
   "outputs": [],
   "source": [
    "#add metadata and examine dada2 feature-table\n",
    "!qiime feature-table summarize \\\n",
    "  --i-table dada2_malesrt/malesrt2_table-dada2.qza \\\n",
    "  --o-visualization dada2_malesrt/malesrt2_table-dada2.qzv \\\n",
    "  --m-sample-metadata-file metadata_malesrt.txt\n",
    "\n",
    "#examine representative sequences\n",
    "!qiime feature-table tabulate-seqs \\\n",
    " --i-data dada2_malesrt/malesrt2_rep-seqs-dada2.qza \\\n",
    " --o-visualization dada2_malesrt/malesrt2_rep-seqs-dada2.qzv"
   ]
  },
  {
   "cell_type": "markdown",
   "metadata": {},
   "source": [
    "## phylogenetics\n",
    "\n",
    "Construct a phylogenetic tree using FastTree, and use the longest branch to root the tree (‘midrooting’)."
   ]
  },
  {
   "cell_type": "code",
   "execution_count": null,
   "metadata": {},
   "outputs": [],
   "source": [
    "#first, align the representative sequences\n",
    "!qiime alignment mafft \\\n",
    "  --i-sequences dada2_malesrt/malesrt2_rep-seqs-dada2.qza \\\n",
    "  --o-alignment dada2_malesrt/aligned-malesrt2_rep-seqs-dada2.qza\n",
    "\n",
    "#mask phyloginetically unimportant sites\n",
    "!qiime alignment mask \\\n",
    "  --i-alignment dada2_malesrt/aligned-malesrt2_rep-seqs-dada2.qza \\\n",
    "  --o-masked-alignment dada2_malesrt/masked-aligned-malesrt2_rep-seqs-dada2.qza\n",
    "\n",
    "#create a tree\n",
    "!qiime phylogeny fasttree \\\n",
    "  --i-alignment dada2_malesrt/masked-aligned-malesrt2_rep-seqs-dada2.qza \\\n",
    "  --o-tree dada2_malesrt/unrooted-malesrt2_tree_dada2.qza\n",
    "\n",
    "#root generated tree at midpoint\n",
    "!qiime phylogeny midpoint-root \\\n",
    "  --i-tree dada2_malesrt/unrooted-malesrt2_tree_dada2.qza \\\n",
    "  --o-rooted-tree dada2_malesrt/rooted-malesrt2_tree_dada2.qza"
   ]
  },
  {
   "cell_type": "markdown",
   "metadata": {},
   "source": [
    "## feature-table filtering\n",
    "\n",
    "Remove low-abundance features from the feature-table (features with the frequency <10 across all samples). It is important to filter out potential errors/artifacts that were retained during the denoising step, this needs to be done before the downstream core metrics analysis. Such features filtering strategy (with the cut off of 10) was adopted from the --p-min-reads default parameters in the [qiime2 deblur workflow](https://docs.qiime2.org/2018.2/plugins/available/deblur/denoise-16S/), which retains only features appearing at least min_reads 10 times across all samples in the resulting feature-table by default."
   ]
  },
  {
   "cell_type": "code",
   "execution_count": null,
   "metadata": {},
   "outputs": [],
   "source": [
    "#filter features with frequency less than 10\n",
    "!qiime feature-table filter-features \\\n",
    "  --i-table dada2_malesrt/malesrt2_table-dada2.qza \\\n",
    "  --p-min-frequency 10 \\\n",
    "  --o-filtered-table dada2_malesrt/malesrt2_table-dada2_filtered10-table.qza"
   ]
  },
  {
   "cell_type": "code",
   "execution_count": null,
   "metadata": {},
   "outputs": [],
   "source": [
    "#summarize filtered feature-table\n",
    "!qiime feature-table summarize \\\n",
    "  --i-table dada2_malesrt/malesrt2_table-dada2_filtered10-table.qza \\\n",
    "  --o-visualization dada2_malesrt/malesrt2_table-dada2_filtered10-table.qzv \\\n",
    "  --m-sample-metadata-file metadata_malesrt.txt"
   ]
  },
  {
   "cell_type": "markdown",
   "metadata": {},
   "source": [
    "## rarefaction\n",
    "\n",
    "Examine sequencing depth across samples that were processed using dada2 (and filtered), and choose the even sampling depth. The maximum amount of reads per sample in the data set is 40855. This upper limit will be used to generate alpha rarefaction curves to examine sequencing coverage."
   ]
  },
  {
   "cell_type": "code",
   "execution_count": null,
   "metadata": {},
   "outputs": [],
   "source": [
    "#make alpha-rarefaction plot and estimate community coverage\n",
    "!qiime diversity alpha-rarefaction \\\n",
    " --i-table dada2_malesrt/malesrt2_table-dada2_filtered10-table.qza \\\n",
    " --i-phylogeny dada2_malesrt/rooted-malesrt2_tree_dada2.qza \\\n",
    " --p-max-depth 40855 \\\n",
    " --p-metrics faith_pd \\\n",
    " --p-metrics shannon \\\n",
    " --p-metrics observed_otus \\\n",
    " --p-metrics chao1 \\\n",
    " --m-metadata-file metadata_malesrt.txt \\\n",
    " --o-visualization dada2_malesrt/alpha-rare_malesrt2_filtered10_dada2.qzv"
   ]
  },
  {
   "cell_type": "markdown",
   "metadata": {},
   "source": [
    "Based on the alpha-rarefaction and the table generated by dada2, we would rarefy the data set at the 14981 (minimum sample frequency) reads per sample. This is because the rarefaction curve level off well before this value and with this even sampling depth we likely sample most of the community, while analysing all the samples."
   ]
  },
  {
   "cell_type": "code",
   "execution_count": null,
   "metadata": {},
   "outputs": [],
   "source": [
    "#run core-metrics pipeline at a given sequencing depth (rarefied data)\n",
    "!qiime diversity core-metrics-phylogenetic \\\n",
    "  --i-phylogeny dada2_malesrt/rooted-malesrt2_tree_dada2.qza \\\n",
    "  --i-table dada2_malesrt/malesrt2_table-dada2_filtered10-table.qza \\\n",
    "  --p-sampling-depth 14981 \\\n",
    "  --m-metadata-file metadata_malesrt.txt \\\n",
    "  --output-dir dada2_malesrt/core-metrics-dada2_results_filtered10/"
   ]
  },
  {
   "cell_type": "markdown",
   "metadata": {},
   "source": [
    "## taxonomic analysis\n",
    "\n",
    "Upload the Greengenes 'reference data base'. This is a pre-trained Naive Bayes classifier for the use with the q2-feature-classifier plugin. This classifier was trained on the Greengenes 13_8 99% OTUs, where the sequences have been trimmed to only include 250 bases from the region of the 16S that was sequenced in this study (the V4 region, bound by the 515F/806R EMP primer pair). See more information of the pre-trained classifiers [here](https://docs.qiime2.org/2018.2/data-resources/)"
   ]
  },
  {
   "cell_type": "code",
   "execution_count": null,
   "metadata": {},
   "outputs": [],
   "source": [
    "!wget -O \"gg-13-8-99-515-806-nb-classifier.qza\" \"https://data.qiime2.org/2018.2/common/gg-13-8-99-515-806-nb-classifier.qza\""
   ]
  },
  {
   "cell_type": "code",
   "execution_count": null,
   "metadata": {},
   "outputs": [],
   "source": [
    "!qiime feature-classifier classify-sklearn \\\n",
    "  --i-classifier gg-13-8-99-515-806-nb-classifier.qza \\\n",
    "  --i-reads dada2_malesrt/malesrt2_rep-seqs-dada2.qza \\\n",
    "  --o-classification dada2_malesrt/malesrt2_dada2_taxonomy.qza\n",
    "\n",
    "!qiime metadata tabulate \\\n",
    "  --m-input-file dada2_malesrt/malesrt2_dada2_taxonomy.qza \\\n",
    "  --o-visualization dada2_malesrt/malesrt2_dada2_taxonomy.qzv"
   ]
  },
  {
   "cell_type": "markdown",
   "metadata": {},
   "source": [
    "Examine the microbiota taxonomic composition in the CMR samples with the interactive bar plots. Rarefaction procedure in the core-metric pipeline above, sample reads at random. Thus, for the complete match in the data comparison, examine the rarefied ('rarefied_table.qza') feature-table found in [this repository at GitHub](https://github.com/alavrinienko/chern-cmr-voles).\n",
    "\n",
    "Note that this taxa bar plot was later grouped according to the **JAE revisions** (10/10/2019)."
   ]
  },
  {
   "cell_type": "code",
   "execution_count": null,
   "metadata": {},
   "outputs": [],
   "source": [
    "#create the taxa bar plots using the 'filtered10' and rarefied at 14981 reads/sample feature-table\n",
    "!qiime taxa barplot \\\n",
    "  --i-table dada2_malesrt/core-metrics-dada2_results_filtered10/rarefied_table.qza \\\n",
    "  --i-taxonomy dada2_malesrt/malesrt2_dada2_taxonomy.qza \\\n",
    "  --m-metadata-file metadata_malesrt.txt \\\n",
    "  --o-visualization dada2_malesrt/malesrt2_filtered10_even14981_dada2_taxa-bar-plots.qzv"
   ]
  },
  {
   "cell_type": "markdown",
   "metadata": {},
   "source": [
    "## dada2 relative frequency tables\n",
    "\n",
    "Generate the tables with relative abundance data at several taxanomical levels (L2 phylum, L3 class, L4 order, L5 family, L6 genus, L7 species). These are based on the 'filtered10' and rarefied at 14981 reads/sample feature-table."
   ]
  },
  {
   "cell_type": "code",
   "execution_count": null,
   "metadata": {},
   "outputs": [],
   "source": [
    "!qiime taxa collapse \\\n",
    "--i-table dada2_malesrt/core-metrics-dada2_results_filtered10/rarefied_table.qza \\\n",
    "--i-taxonomy dada2_malesrt/malesrt2_dada2_taxonomy.qza \\\n",
    "--p-level 2 \\\n",
    "--output-dir dada2_malesrt/taxa-relative-filtered10-even-dada2/L2-filtered10-even-dada2"
   ]
  },
  {
   "cell_type": "code",
   "execution_count": null,
   "metadata": {},
   "outputs": [],
   "source": [
    "!qiime feature-table relative-frequency \\\n",
    "--i-table dada2_malesrt/taxa-relative-filtered10-even-dada2/L2-filtered10-even-dada2/collapsedL2_table.qza \\\n",
    "--output-dir dada2_malesrt/taxa-relative-filtered10-even-dada2/L2-filtered10-even-dada2/relative-L2-filtered10-even-dada2"
   ]
  },
  {
   "cell_type": "code",
   "execution_count": null,
   "metadata": {},
   "outputs": [],
   "source": [
    "!qiime taxa collapse \\\n",
    "--i-table dada2_malesrt/core-metrics-dada2_results_filtered10/rarefied_table.qza \\\n",
    "--i-taxonomy dada2_malesrt/malesrt2_dada2_taxonomy.qza \\\n",
    "--p-level 3 \\\n",
    "--output-dir dada2_malesrt/taxa-relative-filtered10-even-dada2/L3-filtered10-even-dada2"
   ]
  },
  {
   "cell_type": "code",
   "execution_count": null,
   "metadata": {},
   "outputs": [],
   "source": [
    "!qiime feature-table relative-frequency \\\n",
    "--i-table dada2_malesrt/taxa-relative-filtered10-even-dada2/L3-filtered10-even-dada2/collapsedL3_table.qza \\\n",
    "--output-dir dada2_malesrt/taxa-relative-filtered10-even-dada2/L3-filtered10-even-dada2/relative-L3-filtered10-even-dada2"
   ]
  },
  {
   "cell_type": "code",
   "execution_count": null,
   "metadata": {},
   "outputs": [],
   "source": [
    "!qiime taxa collapse \\\n",
    "--i-table dada2_malesrt/core-metrics-dada2_results_filtered10/rarefied_table.qza \\\n",
    "--i-taxonomy dada2_malesrt/malesrt2_dada2_taxonomy.qza \\\n",
    "--p-level 4 \\\n",
    "--output-dir dada2_malesrt/taxa-relative-filtered10-even-dada2/L4-filtered10-even-dada2"
   ]
  },
  {
   "cell_type": "code",
   "execution_count": null,
   "metadata": {},
   "outputs": [],
   "source": [
    "!qiime feature-table relative-frequency \\\n",
    "--i-table dada2_malesrt/taxa-relative-filtered10-even-dada2/L4-filtered10-even-dada2/collapsedL4_table.qza \\\n",
    "--output-dir dada2_malesrt/taxa-relative-filtered10-even-dada2/L4-filtered10-even-dada2/relative-L4-filtered10-even-dada2"
   ]
  },
  {
   "cell_type": "code",
   "execution_count": null,
   "metadata": {},
   "outputs": [],
   "source": [
    "!qiime taxa collapse \\\n",
    "--i-table dada2_malesrt/core-metrics-dada2_results_filtered10/rarefied_table.qza \\\n",
    "--i-taxonomy dada2_malesrt/malesrt2_dada2_taxonomy.qza \\\n",
    "--p-level 5 \\\n",
    "--output-dir dada2_malesrt/taxa-relative-filtered10-even-dada2/L5-filtered10-even-dada2"
   ]
  },
  {
   "cell_type": "code",
   "execution_count": null,
   "metadata": {},
   "outputs": [],
   "source": [
    "!qiime feature-table relative-frequency \\\n",
    "--i-table dada2_malesrt/taxa-relative-filtered10-even-dada2/L5-filtered10-even-dada2/collapsedL5_table.qza \\\n",
    "--output-dir dada2_malesrt/taxa-relative-filtered10-even-dada2/L5-filtered10-even-dada2/relative-L5-filtered10-even-dada2"
   ]
  },
  {
   "cell_type": "code",
   "execution_count": null,
   "metadata": {},
   "outputs": [],
   "source": [
    "!qiime taxa collapse \\\n",
    "--i-table dada2_malesrt/core-metrics-dada2_results_filtered10/rarefied_table.qza \\\n",
    "--i-taxonomy dada2_malesrt/malesrt2_dada2_taxonomy.qza \\\n",
    "--p-level 6 \\\n",
    "--output-dir dada2_malesrt/taxa-relative-filtered10-even-dada2/L6-filtered10-even-dada2"
   ]
  },
  {
   "cell_type": "code",
   "execution_count": null,
   "metadata": {},
   "outputs": [],
   "source": [
    "!qiime feature-table relative-frequency \\\n",
    "--i-table dada2_malesrt/taxa-relative-filtered10-even-dada2/L6-filtered10-even-dada2/collapsedL6_table.qza \\\n",
    "--output-dir dada2_malesrt/taxa-relative-filtered10-even-dada2/L6-filtered10-even-dada2/relative-L6-filtered10-even-dada2"
   ]
  },
  {
   "cell_type": "code",
   "execution_count": null,
   "metadata": {},
   "outputs": [],
   "source": [
    "!qiime taxa collapse \\\n",
    "--i-table dada2_malesrt/core-metrics-dada2_results_filtered10/rarefied_table.qza \\\n",
    "--i-taxonomy dada2_malesrt/malesrt2_dada2_taxonomy.qza \\\n",
    "--p-level 7 \\\n",
    "--output-dir dada2_malesrt/taxa-relative-filtered10-even-dada2/L7-filtered10-even-dada2"
   ]
  },
  {
   "cell_type": "code",
   "execution_count": null,
   "metadata": {},
   "outputs": [],
   "source": [
    "!qiime feature-table relative-frequency \\\n",
    "--i-table dada2_malesrt/taxa-relative-filtered10-even-dada2/L7-filtered10-even-dada2/collapsedL7_table.qza \\\n",
    "--output-dir dada2_malesrt/taxa-relative-filtered10-even-dada2/L7-filtered10-even-dada2/relative-L7-filtered10-even-dada2"
   ]
  },
  {
   "cell_type": "markdown",
   "metadata": {},
   "source": [
    "Convert the biom tables to tsv prior merging them all into one file containing the taxonomy and the metadata associated with each bank vole individual (this can be done using the qiime/1.9.1 version). We then calculated means and SD for each taxa per the CMR-group, and archive these data for the manuscript (see the SI table S2)."
   ]
  },
  {
   "cell_type": "code",
   "execution_count": null,
   "metadata": {},
   "outputs": [],
   "source": [
    "#open relative-frequency_table.qza with any zip archive app and export biom table,\n",
    "#then, run the following:\n",
    "!module load qiime/1.9.1\n",
    "!biom convert -i feature-tableL2.biom -o L2-filtered10-even-dada2/relative-L2-filtered10-even-dada2/feature-tableL2.tsv --to-tsv\n",
    "!biom convert -i feature-tableL3.biom -o L3-filtered10-even-dada2/relative-L3-filtered10-even-dada2/feature-tableL3.tsv --to-tsv\n",
    "!biom convert -i feature-tableL4.biom -o L4-filtered10-even-dada2/relative-L4-filtered10-even-dada2/feature-tableL4.tsv --to-tsv\n",
    "!biom convert -i feature-tableL5.biom -o L5-filtered10-even-dada2/relative-L5-filtered10-even-dada2/feature-tableL5.tsv --to-tsv\n",
    "!biom convert -i feature-tableL6.biom -o L6-filtered10-even-dada2/relative-L6-filtered10-even-dada2/feature-tableL6.tsv --to-tsv\n",
    "!biom convert -i feature-tableL7.biom -o L7-filtered10-even-dada2/relative-L7-filtered10-even-dada2/feature-tableL7.tsv --to-tsv"
   ]
  },
  {
   "cell_type": "markdown",
   "metadata": {},
   "source": [
    "## core features analysis"
   ]
  },
  {
   "cell_type": "markdown",
   "metadata": {},
   "source": [
    "Filter the dada2 (filtered10, rarefied) feature-table to include only samples from (1) CL (radioactively uncontaminated) and (2) CH (radioactively contaminated) areas within the Chernobyl Exclusion Zone, Ukraine. These tables will be used (with the core-features plugin) to identify potential differences in the core microbiome between radionuclide contamination treatments."
   ]
  },
  {
   "cell_type": "code",
   "execution_count": null,
   "metadata": {},
   "outputs": [],
   "source": [
    "#CL (uncontaminated) CMR individuals - to retain only samples in group 'CL'\n",
    "!qiime feature-table filter-samples \\\n",
    "  --i-table dada2_malesrt/core-metrics-dada2_results_filtered10/rarefied_table.qza \\\n",
    "  --m-metadata-file metadata_malesrt.txt \\\n",
    "  --p-where \"Treatment='CL'\" \\\n",
    "  --o-filtered-table dada2_malesrt/filtered10-even-select-tables/clean-dada2-filtered10-even-table.qza\n",
    "  \n",
    "#visualize and double-check the filtering\n",
    "!qiime feature-table summarize \\\n",
    "  --i-table dada2_malesrt/filtered10-even-select-tables/clean-dada2-filtered10-even-table.qza \\\n",
    "  --o-visualization dada2_malesrt/filtered10-even-select-tables/clean-dada2-filtered10-even-table.qzv \\\n",
    "  --m-sample-metadata-file metadata_malesrt.txt"
   ]
  },
  {
   "cell_type": "code",
   "execution_count": null,
   "metadata": {},
   "outputs": [],
   "source": [
    "#CH (contaminated) CMR individuals - to retain only samples in group 'CH'\n",
    "!qiime feature-table filter-samples \\\n",
    "  --i-table dada2_malesrt/core-metrics-dada2_results_filtered10/rarefied_table.qza \\\n",
    "  --m-metadata-file metadata_malesrt.txt \\\n",
    "  --p-where \"Treatment='CH'\" \\\n",
    "  --o-filtered-table dada2_malesrt/filtered10-even-select-tables/hot-dada2-filtered10-even-table.qza\n",
    "  \n",
    "#visualize and double-check the filtering\n",
    "!qiime feature-table summarize \\\n",
    "  --i-table dada2_malesrt/filtered10-even-select-tables/hot-dada2-filtered10-even-table.qza \\\n",
    "  --o-visualization dada2_malesrt/filtered10-even-select-tables/hot-dada2-filtered10-even-table.qzv \\\n",
    "  --m-sample-metadata-file metadata_malesrt.txt"
   ]
  },
  {
   "cell_type": "markdown",
   "metadata": {},
   "source": [
    "Run the core-features analysis on the filtered datasets (CL/CH). Examine the output files and archive these data for the manuscript (see the SI table S5)."
   ]
  },
  {
   "cell_type": "code",
   "execution_count": null,
   "metadata": {},
   "outputs": [],
   "source": [
    "!qiime feature-table core-features \\\n",
    "  --i-table dada2_malesrt/filtered10-even-select-tables/clean-dada2-filtered10-even-table.qza \\\n",
    "  --p-min-fraction 0.9 \\\n",
    "  --p-max-fraction 1.0 \\\n",
    "  --p-steps 5 \\\n",
    "  --output-dir dada2_malesrt/core-features-filtered10-even-dada2/core-even-clean/"
   ]
  },
  {
   "cell_type": "code",
   "execution_count": null,
   "metadata": {},
   "outputs": [],
   "source": [
    "!qiime feature-table core-features \\\n",
    "  --i-table dada2_malesrt/filtered10-even-select-tables/hot-dada2-filtered10-even-table.qza \\\n",
    "  --p-min-fraction 0.9 \\\n",
    "  --p-max-fraction 1.0 \\\n",
    "  --p-steps 5 \\\n",
    "  --output-dir dada2_malesrt/core-features-filtered10-even-dada2/core-even-hot/"
   ]
  },
  {
   "cell_type": "markdown",
   "metadata": {},
   "source": [
    "## alpha diversity analysis\n",
    "\n",
    "Examine differences in the alpha diversity (number of observed ASVs, Shannon Index) between (CL vs. CH), and also within (first vs. second) treatment groups using the Kruskal-Wallis tests implemented in the DUNN.TEST package in R. All comparisons were non significant (see the SI table S3). The input data for these comparisons derived from the *observed_otus_vector.qza* and the *shannon_vector.qza* files from the core diversity metrics pipeline (described above).\n",
    "\n",
    "For the visual purposes, we would also want to examine changes in the alpha diversity between the first and second capture of CL and CH bank voles, in a paired mode using the qiime2 [longitudinal plugin](https://docs.qiime2.org/2018.2/plugins/available/longitudinal/pairwise-differences/)."
   ]
  },
  {
   "cell_type": "code",
   "execution_count": null,
   "metadata": {},
   "outputs": [],
   "source": [
    "!qiime longitudinal pairwise-differences \\\n",
    "  --m-metadata-file metadata_malesrt.txt \\\n",
    "  --m-metadata-file dada2_malesrt/core-metrics-dada2_results_filtered10/observed_otus_vector.qza \\\n",
    "  --p-metric observed_otus \\\n",
    "  --p-group-column Treatment \\\n",
    "  --p-state-column PrePost \\\n",
    "  --p-state-1 1 \\\n",
    "  --p-state-2 2 \\\n",
    "  --p-individual-id-column StudyID \\\n",
    "  --p-replicate-handling random \\\n",
    "  --o-visualization malesrt-q2-observed_pairwise-differences.qzv"
   ]
  },
  {
   "cell_type": "code",
   "execution_count": null,
   "metadata": {},
   "outputs": [],
   "source": [
    "!qiime longitudinal pairwise-differences \\\n",
    "  --m-metadata-file metadata_malesrt.txt \\\n",
    "  --m-metadata-file dada2_malesrt/core-metrics-dada2_results_filtered10/shannon_vector.qza \\\n",
    "  --p-metric shannon \\\n",
    "  --p-group-column Treatment \\\n",
    "  --p-state-column PrePost \\\n",
    "  --p-state-1 1 \\\n",
    "  --p-state-2 2 \\\n",
    "  --p-individual-id-column StudyID \\\n",
    "  --p-replicate-handling random \\\n",
    "  --o-visualization malesrt-q2-shannon_pairwise-differences.qzv"
   ]
  },
  {
   "cell_type": "markdown",
   "metadata": {},
   "source": [
    "## beta diversity\n",
    "\n",
    "Use the pairwise permanova analysis, to test whether the beta diversity is significantly different between the first and second captures within/and also between bank voles inhabiting CL and CH areas. Examine the output files and archive these data for the manuscript (see the SI table S6)."
   ]
  },
  {
   "cell_type": "code",
   "execution_count": null,
   "metadata": {},
   "outputs": [],
   "source": [
    "!qiime diversity beta-group-significance \\\n",
    "  --i-distance-matrix dada2_malesrt/core-metrics-dada2_results_filtered10/bray_curtis_distance_matrix.qza \\\n",
    "  --m-metadata-file metadata_malesrt.txt \\\n",
    "  --m-metadata-column PrePostCLCH_f \\\n",
    "  --o-visualization bray-PrePostCLCH-significance.qzv \\\n",
    "  --p-pairwise"
   ]
  },
  {
   "cell_type": "code",
   "execution_count": null,
   "metadata": {},
   "outputs": [],
   "source": [
    "!qiime diversity beta-group-significance \\\n",
    "  --i-distance-matrix dada2_malesrt/core-metrics-dada2_results_filtered10/unweighted_unifrac_distance_matrix.qza \\\n",
    "  --m-metadata-file metadata_malesrt.txt \\\n",
    "  --m-metadata-column PrePostCLCH_f \\\n",
    "  --o-visualization unwUniFrac-PrePostCLCH-significance.qzv \\\n",
    "  --p-pairwise"
   ]
  },
  {
   "cell_type": "markdown",
   "metadata": {},
   "source": [
    "Run the same analysis as above also for the Jaccard index and the weighted UniFrac distance for the **JAE revisions** (13/10/2019)."
   ]
  },
  {
   "cell_type": "code",
   "execution_count": null,
   "metadata": {},
   "outputs": [],
   "source": [
    "!qiime diversity beta-group-significance \\\n",
    "  --i-distance-matrix dada2_malesrt/core-metrics-dada2_results_filtered10/jaccard_distance_matrix.qza \\\n",
    "  --m-metadata-file metadata_malesrt.txt \\\n",
    "  --m-metadata-column PrePostCLCH_f \\\n",
    "  --o-visualization jaccard-PrePostCLCH-significance.qzv \\\n",
    "  --p-pairwise"
   ]
  },
  {
   "cell_type": "code",
   "execution_count": null,
   "metadata": {},
   "outputs": [],
   "source": [
    "!qiime diversity beta-group-significance \\\n",
    "  --i-distance-matrix dada2_malesrt/core-metrics-dada2_results_filtered10/weighted_unifrac_distance_matrix.qza \\\n",
    "  --m-metadata-file metadata_malesrt.txt \\\n",
    "  --m-metadata-column PrePostCLCH_f \\\n",
    "  --o-visualization wUF-PrePostCLCH-significance.qzv \\\n",
    "  --p-pairwise"
   ]
  },
  {
   "cell_type": "markdown",
   "metadata": {},
   "source": [
    "We would also like to know which factors are responsible for the patterns observed in the beta diversity ordinations (including numerical data categories). For this, we used the adonis function in the vegan R package implemented in qiime2. The input distance files for the adonis tests derive from the core diversity metrics pipeline (described above). Examine the output files and archive these data for the manuscript."
   ]
  },
  {
   "cell_type": "markdown",
   "metadata": {},
   "source": [
    "This was run for the **JAE revisions** (04/06/2020) (see methods details in the manuscript text and SI table S6): test for: (1) Treatment (Treatment); and (2) CMR (PrePostCLCH_f) separately, as univariate models to compare the variance explained by each.\n",
    "\n",
    "Then, construct full multivariate models to see the influence of other variables, but separately for the first and second set of oservations (as they are not independent). Fit models with (1) Treatment (Treatment); (2) radiation dose rate (total exposure estimates, TotalDose); (3) body condition index (CI_BM_hw_prepost); (4) fur SIA C (corrFurd13C); (5) fur SIA N (corrFurd15N); for the **FIRST** capture.\n",
    "\n",
    "(1) Treatment (Treatment); (2) radiation dose rate (total exposure estimates, TotalDose); (3) body condition index (CI_BM_hw_prepost); (4) liver SIA C (corrLiverd13C); (5) liver SIA N (corrLiverd15N); (6) InTheLab (days); (7) InTheField (days); for the **SECOND** capture."
   ]
  },
  {
   "cell_type": "markdown",
   "metadata": {},
   "source": [
    "#### Bray-Curtis univariate"
   ]
  },
  {
   "cell_type": "code",
   "execution_count": null,
   "metadata": {},
   "outputs": [],
   "source": [
    "#permanova on Bray treatment\n",
    "!qiime diversity adonis \\\n",
    "--i-distance-matrix dada2_malesrt/core-metrics-dada2_results_filtered10/bray_curtis_distance_matrix.qza \\\n",
    "--m-metadata-file metadata_malesrt.txt \\\n",
    "--p-formula \"Treatment\" \\\n",
    "--o-visualization dada2_malesrt/q2-adonis-bray-univar-treatment.qzv\n",
    "\n",
    "#permanova on Bray CMR\n",
    "!qiime diversity adonis \\\n",
    "--i-distance-matrix dada2_malesrt/core-metrics-dada2_results_filtered10/bray_curtis_distance_matrix.qza \\\n",
    "--m-metadata-file metadata_malesrt.txt \\\n",
    "--p-formula \"PrePostCLCH_f\" \\\n",
    "--o-visualization dada2_malesrt/q2-adonis-bray-univar-PrePostCLCH_f.qzv\n",
    "\n",
    "#permdisp on Bray treatment\n",
    "!qiime diversity beta-group-significance \\\n",
    "--i-distance-matrix dada2_malesrt/core-metrics-dada2_results_filtered10/bray_curtis_distance_matrix.qza \\\n",
    "--m-metadata-file metadata_malesrt.txt \\\n",
    "--m-metadata-column Treatment \\\n",
    "--p-method 'permdisp' \\\n",
    "--o-visualization dada2_malesrt/q2-permdisp-bray-univar-treatment.qzv\n",
    "\n",
    "#permdisp on Bray CMR\n",
    "!qiime diversity beta-group-significance \\\n",
    "--i-distance-matrix dada2_malesrt/core-metrics-dada2_results_filtered10/bray_curtis_distance_matrix.qza \\\n",
    "--m-metadata-file metadata_malesrt.txt \\\n",
    "--m-metadata-column PrePostCLCH_f \\\n",
    "--p-method 'permdisp' \\\n",
    "--o-visualization dada2_malesrt/q2-permdisp-bray-univar-PrePostCLCH_f.qzv"
   ]
  },
  {
   "cell_type": "markdown",
   "metadata": {},
   "source": [
    "#### Jaccard univariate"
   ]
  },
  {
   "cell_type": "code",
   "execution_count": null,
   "metadata": {},
   "outputs": [],
   "source": [
    "#permanova on Jaccard treatment\n",
    "!qiime diversity adonis \\\n",
    "--i-distance-matrix dada2_malesrt/core-metrics-dada2_results_filtered10/jaccard_distance_matrix.qza \\\n",
    "--m-metadata-file metadata_malesrt.txt \\\n",
    "--p-formula \"Treatment\" \\\n",
    "--o-visualization dada2_malesrt/q2-adonis-jaccard-univar-treatment.qzv\n",
    "\n",
    "#permanova on Jaccard CMR\n",
    "!qiime diversity adonis \\\n",
    "--i-distance-matrix dada2_malesrt/core-metrics-dada2_results_filtered10/jaccard_distance_matrix.qza \\\n",
    "--m-metadata-file metadata_malesrt.txt \\\n",
    "--p-formula \"PrePostCLCH_f\" \\\n",
    "--o-visualization dada2_malesrt/q2-adonis-jaccard-univar-PrePostCLCH_f.qzv\n",
    "\n",
    "#permdisp on Jaccard treatment\n",
    "!qiime diversity beta-group-significance \\\n",
    "--i-distance-matrix dada2_malesrt/core-metrics-dada2_results_filtered10/jaccard_distance_matrix.qza \\\n",
    "--m-metadata-file metadata_malesrt.txt \\\n",
    "--m-metadata-column Treatment \\\n",
    "--p-method 'permdisp' \\\n",
    "--o-visualization dada2_malesrt/q2-permdisp-jaccard-univar-treatment.qzv\n",
    "\n",
    "#permdisp on Jaccard CMR\n",
    "!qiime diversity beta-group-significance \\\n",
    "--i-distance-matrix dada2_malesrt/core-metrics-dada2_results_filtered10/jaccard_distance_matrix.qza \\\n",
    "--m-metadata-file metadata_malesrt.txt \\\n",
    "--m-metadata-column PrePostCLCH_f \\\n",
    "--p-method 'permdisp' \\\n",
    "--o-visualization dada2_malesrt/q2-permdisp-jaccard-univar-PrePostCLCH_f.qzv"
   ]
  },
  {
   "cell_type": "markdown",
   "metadata": {},
   "source": [
    "#### unwUF"
   ]
  },
  {
   "cell_type": "code",
   "execution_count": null,
   "metadata": {},
   "outputs": [],
   "source": [
    "#permanova on unwUF treatment\n",
    "!qiime diversity adonis \\\n",
    "--i-distance-matrix dada2_malesrt/core-metrics-dada2_results_filtered10/unweighted_unifrac_distance_matrix.qza \\\n",
    "--m-metadata-file metadata_malesrt.txt \\\n",
    "--p-formula \"Treatment\" \\\n",
    "--o-visualization dada2_malesrt/q2-adonis-unwUF-univar-treatment.qzv\n",
    "\n",
    "#permanova on unwUF CMR\n",
    "!qiime diversity adonis \\\n",
    "--i-distance-matrix dada2_malesrt/core-metrics-dada2_results_filtered10/unweighted_unifrac_distance_matrix.qza \\\n",
    "--m-metadata-file metadata_malesrt.txt \\\n",
    "--p-formula \"PrePostCLCH_f\" \\\n",
    "--o-visualization dada2_malesrt/q2-adonis-unwUF-univar-PrePostCLCH_f.qzv\n",
    "\n",
    "#permdisp on unwUF treatment\n",
    "!qiime diversity beta-group-significance \\\n",
    "--i-distance-matrix dada2_malesrt/core-metrics-dada2_results_filtered10/unweighted_unifrac_distance_matrix.qza \\\n",
    "--m-metadata-file metadata_malesrt.txt \\\n",
    "--m-metadata-column Treatment \\\n",
    "--p-method 'permdisp' \\\n",
    "--o-visualization dada2_malesrt/q2-permdisp-unwUF-univar-treatment.qzv\n",
    "\n",
    "#permdisp on unwUF CMR\n",
    "!qiime diversity beta-group-significance \\\n",
    "--i-distance-matrix dada2_malesrt/core-metrics-dada2_results_filtered10/unweighted_unifrac_distance_matrix.qza \\\n",
    "--m-metadata-file metadata_malesrt.txt \\\n",
    "--m-metadata-column PrePostCLCH_f \\\n",
    "--p-method 'permdisp' \\\n",
    "--o-visualization dada2_malesrt/q2-permdisp-unwUF-univar-PrePostCLCH_f.qzv"
   ]
  },
  {
   "cell_type": "markdown",
   "metadata": {},
   "source": [
    "#### wUF"
   ]
  },
  {
   "cell_type": "code",
   "execution_count": null,
   "metadata": {},
   "outputs": [],
   "source": [
    "#permanova on wUF treatment\n",
    "!qiime diversity adonis \\\n",
    "--i-distance-matrix dada2_malesrt/core-metrics-dada2_results_filtered10/weighted_unifrac_distance_matrix.qza \\\n",
    "--m-metadata-file metadata_malesrt.txt \\\n",
    "--p-formula \"Treatment\" \\\n",
    "--o-visualization dada2_malesrt/q2-adonis-wUF-univar-treatment.qzv\n",
    "\n",
    "#permanova on wUF CMR\n",
    "!qiime diversity adonis \\\n",
    "--i-distance-matrix dada2_malesrt/core-metrics-dada2_results_filtered10/weighted_unifrac_distance_matrix.qza \\\n",
    "--m-metadata-file metadata_malesrt.txt \\\n",
    "--p-formula \"PrePostCLCH_f\" \\\n",
    "--o-visualization dada2_malesrt/q2-adonis-wUF-univar-PrePostCLCH_f.qzv\n",
    "\n",
    "#permdisp on wUF treatment\n",
    "!qiime diversity beta-group-significance \\\n",
    "--i-distance-matrix dada2_malesrt/core-metrics-dada2_results_filtered10/weighted_unifrac_distance_matrix.qza \\\n",
    "--m-metadata-file metadata_malesrt.txt \\\n",
    "--m-metadata-column Treatment \\\n",
    "--p-method 'permdisp' \\\n",
    "--o-visualization dada2_malesrt/q2-permdisp-wUF-univar-treatment.qzv\n",
    "\n",
    "#permdisp on wUF CMR\n",
    "!qiime diversity beta-group-significance \\\n",
    "--i-distance-matrix dada2_malesrt/core-metrics-dada2_results_filtered10/weighted_unifrac_distance_matrix.qza \\\n",
    "--m-metadata-file metadata_malesrt.txt \\\n",
    "--m-metadata-column PrePostCLCH_f \\\n",
    "--p-method 'permdisp' \\\n",
    "--o-visualization dada2_malesrt/q2-permdisp-wUF-univar-PrePostCLCH_f.qzv"
   ]
  },
  {
   "cell_type": "markdown",
   "metadata": {},
   "source": [
    "Filter distance matrices to include only samples from the first and second capture within each CH and CL study area, see [this tutorial](https://docs.qiime2.org/2019.4/tutorials/filtering/#filtering-distance-matrices) for details."
   ]
  },
  {
   "cell_type": "markdown",
   "metadata": {},
   "source": [
    "#### Bray filtering"
   ]
  },
  {
   "cell_type": "code",
   "execution_count": null,
   "metadata": {},
   "outputs": [],
   "source": [
    "#filter Bray first\n",
    "!qiime diversity filter-distance-matrix \\\n",
    "--i-distance-matrix dada2_malesrt/core-metrics-dada2_results_filtered10/bray_curtis_distance_matrix.qza \\\n",
    "--m-metadata-file metadata_malesrt.txt \\\n",
    "--p-where \"PrePost_f='first'\" \\\n",
    "--o-filtered-distance-matrix dada2_malesrt/core-metrics-dada2_results_filtered10/bray_curtis_firstCMR_filtered_distance_matrix.qza\n",
    "\n",
    "#filter Bray second\n",
    "!qiime diversity filter-distance-matrix \\\n",
    "--i-distance-matrix dada2_malesrt/core-metrics-dada2_results_filtered10/bray_curtis_distance_matrix.qza \\\n",
    "--m-metadata-file metadata_malesrt.txt \\\n",
    "--p-where \"PrePost_f='second'\" \\\n",
    "--o-filtered-distance-matrix dada2_malesrt/core-metrics-dada2_results_filtered10/bray_curtis_secondCMR_filtered_distance_matrix.qza"
   ]
  },
  {
   "cell_type": "markdown",
   "metadata": {},
   "source": [
    "#### Jaccard filtering"
   ]
  },
  {
   "cell_type": "code",
   "execution_count": null,
   "metadata": {},
   "outputs": [],
   "source": [
    "#filter Jaccard first\n",
    "!qiime diversity filter-distance-matrix \\\n",
    "--i-distance-matrix dada2_malesrt/core-metrics-dada2_results_filtered10/jaccard_distance_matrix.qza \\\n",
    "--m-metadata-file metadata_malesrt.txt \\\n",
    "--p-where \"PrePost_f='first'\" \\\n",
    "--o-filtered-distance-matrix dada2_malesrt/core-metrics-dada2_results_filtered10/jaccard_firstCMR_filtered_distance_matrix.qza\n",
    "\n",
    "#filter Jaccard second\n",
    "!qiime diversity filter-distance-matrix \\\n",
    "--i-distance-matrix dada2_malesrt/core-metrics-dada2_results_filtered10/jaccard_distance_matrix.qza \\\n",
    "--m-metadata-file metadata_malesrt.txt \\\n",
    "--p-where \"PrePost_f='second'\" \\\n",
    "--o-filtered-distance-matrix dada2_malesrt/core-metrics-dada2_results_filtered10/jaccard_secondCMR_filtered_distance_matrix.qza"
   ]
  },
  {
   "cell_type": "markdown",
   "metadata": {},
   "source": [
    "#### unwUF filtering"
   ]
  },
  {
   "cell_type": "code",
   "execution_count": null,
   "metadata": {},
   "outputs": [],
   "source": [
    "#filter unwUF first\n",
    "!qiime diversity filter-distance-matrix \\\n",
    "--i-distance-matrix dada2_malesrt/core-metrics-dada2_results_filtered10/unweighted_unifrac_distance_matrix.qza \\\n",
    "--m-metadata-file metadata_malesrt.txt \\\n",
    "--p-where \"PrePost_f='first'\" \\\n",
    "--o-filtered-distance-matrix dada2_malesrt/core-metrics-dada2_results_filtered10/unweighted_unifrac_firstCMR_filtered_distance_matrix.qza\n",
    "\n",
    "#filter unwUF second\n",
    "!qiime diversity filter-distance-matrix \\\n",
    "--i-distance-matrix dada2_malesrt/core-metrics-dada2_results_filtered10/unweighted_unifrac_distance_matrix.qza \\\n",
    "--m-metadata-file metadata_malesrt.txt \\\n",
    "--p-where \"PrePost_f='second'\" \\\n",
    "--o-filtered-distance-matrix dada2_malesrt/core-metrics-dada2_results_filtered10/unweighted_unifrac_secondCMR_filtered_distance_matrix.qza"
   ]
  },
  {
   "cell_type": "markdown",
   "metadata": {},
   "source": [
    "#### wUF filtering"
   ]
  },
  {
   "cell_type": "code",
   "execution_count": null,
   "metadata": {},
   "outputs": [],
   "source": [
    "#filter wUF first\n",
    "!qiime diversity filter-distance-matrix \\\n",
    "--i-distance-matrix dada2_malesrt/core-metrics-dada2_results_filtered10/weighted_unifrac_distance_matrix.qza \\\n",
    "--m-metadata-file metadata_malesrt.txt \\\n",
    "--p-where \"PrePost_f='first'\" \\\n",
    "--o-filtered-distance-matrix dada2_malesrt/core-metrics-dada2_results_filtered10/weighted_unifrac_firstCMR_filtered_distance_matrix.qza\n",
    "\n",
    "#filter wUF second\n",
    "!qiime diversity filter-distance-matrix \\\n",
    "--i-distance-matrix dada2_malesrt/core-metrics-dada2_results_filtered10/weighted_unifrac_distance_matrix.qza \\\n",
    "--m-metadata-file metadata_malesrt.txt \\\n",
    "--p-where \"PrePost_f='second'\" \\\n",
    "--o-filtered-distance-matrix dada2_malesrt/core-metrics-dada2_results_filtered10/weighted_unifrac_secondCMR_filtered_distance_matrix.qza"
   ]
  },
  {
   "cell_type": "markdown",
   "metadata": {},
   "source": [
    "#### Bray stats"
   ]
  },
  {
   "cell_type": "code",
   "execution_count": null,
   "metadata": {},
   "outputs": [],
   "source": [
    "#permanova first\n",
    "!qiime diversity adonis \\\n",
    "--i-distance-matrix dada2_malesrt/core-metrics-dada2_results_filtered10/bray_curtis_firstCMR_filtered_distance_matrix.qza \\\n",
    "--m-metadata-file metadata_malesrt.txt \\\n",
    "--p-formula \"Treatment+TotalDose+CI_BM_hw_prepost+corrFurd13C+corrFurd15N\" \\\n",
    "--o-visualization dada2_malesrt/permanova-bdiv-jae2/q2-adonis-bray-multivarFIRST-Treatment+TotalDose+CI_BM_hw_prepost+corrFurd13C+corrFurd15N.qzv\n",
    "\n",
    "#permanova second\n",
    "!qiime diversity adonis \\\n",
    "--i-distance-matrix dada2_malesrt/core-metrics-dada2_results_filtered10/bray_curtis_secondCMR_filtered_distance_matrix.qza \\\n",
    "--m-metadata-file metadata_malesrt.txt \\\n",
    "--p-formula \"Treatment+TotalDose+CI_BM_hw_prepost+corrLiverd13C+corrLiverd15N+InTheLab+InTheField\" \\\n",
    "--o-visualization dada2_malesrt/permanova-bdiv-jae2/q2-adonis-bray-multivarSECOND-Treatment+TotalDose+CI_BM_hw_prepost+corrLiverd13C+corrLiverd15N+InTheLab+InTheField.qzv"
   ]
  },
  {
   "cell_type": "markdown",
   "metadata": {},
   "source": [
    "#### Jaccard stats"
   ]
  },
  {
   "cell_type": "code",
   "execution_count": null,
   "metadata": {},
   "outputs": [],
   "source": [
    "#permanova first\n",
    "!qiime diversity adonis \\\n",
    "--i-distance-matrix dada2_malesrt/core-metrics-dada2_results_filtered10/jaccard_firstCMR_filtered_distance_matrix.qza \\\n",
    "--m-metadata-file metadata_malesrt.txt \\\n",
    "--p-formula \"Treatment+TotalDose+CI_BM_hw_prepost+corrFurd13C+corrFurd15N\" \\\n",
    "--o-visualization dada2_malesrt/permanova-bdiv-jae2/q2-adonis-jaccard-multivarFIRST-Treatment+TotalDose+CI_BM_hw_prepost+corrFurd13C+corrFurd15N.qzv\n",
    "\n",
    "#permanova second\n",
    "!qiime diversity adonis \\\n",
    "--i-distance-matrix dada2_malesrt/core-metrics-dada2_results_filtered10/jaccard_secondCMR_filtered_distance_matrix.qza \\\n",
    "--m-metadata-file metadata_malesrt.txt \\\n",
    "--p-formula \"Treatment+TotalDose+CI_BM_hw_prepost+corrLiverd13C+corrLiverd15N+InTheLab+InTheField\" \\\n",
    "--o-visualization dada2_malesrt/permanova-bdiv-jae2/q2-adonis-jaccard-multivarSECOND-Treatment+TotalDose+CI_BM_hw_prepost+corrLiverd13C+corrLiverd15N+InTheLab+InTheField.qzv"
   ]
  },
  {
   "cell_type": "markdown",
   "metadata": {},
   "source": [
    "#### unwUF stats"
   ]
  },
  {
   "cell_type": "code",
   "execution_count": null,
   "metadata": {},
   "outputs": [],
   "source": [
    "#permanova first\n",
    "!qiime diversity adonis \\\n",
    "--i-distance-matrix dada2_malesrt/core-metrics-dada2_results_filtered10/unweighted_unifrac_firstCMR_filtered_distance_matrix.qza \\\n",
    "--m-metadata-file metadata_malesrt.txt \\\n",
    "--p-formula \"Treatment+TotalDose+CI_BM_hw_prepost+corrFurd13C+corrFurd15N\" \\\n",
    "--o-visualization dada2_malesrt/permanova-bdiv-jae2/q2-adonis-unwUF-multivarFIRST-Treatment+TotalDose+CI_BM_hw_prepost+corrFurd13C+corrFurd15N.qzv\n",
    "\n",
    "#permanova second\n",
    "!qiime diversity adonis \\\n",
    "--i-distance-matrix dada2_malesrt/core-metrics-dada2_results_filtered10/unweighted_unifrac_secondCMR_filtered_distance_matrix.qza \\\n",
    "--m-metadata-file metadata_malesrt.txt \\\n",
    "--p-formula \"Treatment+TotalDose+CI_BM_hw_prepost+corrLiverd13C+corrLiverd15N+InTheLab+InTheField\" \\\n",
    "--o-visualization dada2_malesrt/permanova-bdiv-jae2/q2-adonis-unwUF-multivarSECOND-Treatment+TotalDose+CI_BM_hw_prepost+corrLiverd13C+corrLiverd15N+InTheLab+InTheField.qzv"
   ]
  },
  {
   "cell_type": "markdown",
   "metadata": {},
   "source": [
    "#### wUF stats"
   ]
  },
  {
   "cell_type": "code",
   "execution_count": null,
   "metadata": {},
   "outputs": [],
   "source": [
    "#permanova first\n",
    "!qiime diversity adonis \\\n",
    "--i-distance-matrix dada2_malesrt/core-metrics-dada2_results_filtered10/weighted_unifrac_firstCMR_filtered_distance_matrix.qza \\\n",
    "--m-metadata-file metadata_malesrt.txt \\\n",
    "--p-formula \"Treatment+TotalDose+CI_BM_hw_prepost+corrFurd13C+corrFurd15N\" \\\n",
    "--o-visualization dada2_malesrt/permanova-bdiv-jae2/q2-adonis-wUF-multivarFIRST-Treatment+TotalDose+CI_BM_hw_prepost+corrFurd13C+corrFurd15N.qzv\n",
    "\n",
    "#permanova second\n",
    "!qiime diversity adonis \\\n",
    "--i-distance-matrix dada2_malesrt/core-metrics-dada2_results_filtered10/weighted_unifrac_secondCMR_filtered_distance_matrix.qza \\\n",
    "--m-metadata-file metadata_malesrt.txt \\\n",
    "--p-formula \"Treatment+TotalDose+CI_BM_hw_prepost+corrLiverd13C+corrLiverd15N+InTheLab+InTheField\" \\\n",
    "--o-visualization dada2_malesrt/permanova-bdiv-jae2/q2-adonis-wUF-multivarSECOND-Treatment+TotalDose+CI_BM_hw_prepost+corrLiverd13C+corrLiverd15N+InTheLab+InTheField.qzv"
   ]
  },
  {
   "cell_type": "markdown",
   "metadata": {},
   "source": [
    "## ordination\n",
    "\n",
    "Results of the PCoA were examined using the Emperor 3D plots from the core diversity metrics pipeline (described above). However, we also used a stand alone Emperor software for higher flexibility and to utilise 'add-vectors' function, which is apparently not available through the qiime2 Emperor plugin. This function connects samples from multiple observations of the same subject with a solid line. The ordination-bray/unwUF.txt files are coming from the *pcoa_results.qza* file (bray/unwUF, respectively)."
   ]
  },
  {
   "cell_type": "code",
   "execution_count": null,
   "metadata": {},
   "outputs": [],
   "source": [
    "!module load qiime/1.9.1\n",
    "!make_emperor.py -i ordination-bray.txt -m metadata_malesrt.txt -o vectors-bray --add_vectors SubjectID\n",
    "!make_emperor.py -i ordination-unwUF.txt -m metadata_malesrt.txt -o vectors-unwUF --add_vectors SubjectID"
   ]
  },
  {
   "cell_type": "markdown",
   "metadata": {},
   "source": [
    "We have also used qiime 1.9.1 to generate the [2D plots](https://forum.qiime2.org/t/is-it-available-to-make-2d-pcoa-plots/726). Then, these vector graphics was edited for the manuscript figure 3."
   ]
  },
  {
   "cell_type": "code",
   "execution_count": null,
   "metadata": {},
   "outputs": [],
   "source": [
    "!module load qiime/1.9.1\n",
    "!make_2d_plots.py -i ordination-bray.txt -m metadata_malesrt.txt -b 'CMR-group'\n",
    "!make_2d_plots.py -i ordination-unwUF.txt -m metadata_malesrt.txt -b 'CMR-group'"
   ]
  },
  {
   "cell_type": "markdown",
   "metadata": {},
   "source": [
    "Extract the PCoA axis1 and run pairwise comparisons between the first and second samples collected from bank voles inhabiting CL and CH areas."
   ]
  },
  {
   "cell_type": "code",
   "execution_count": null,
   "metadata": {},
   "outputs": [],
   "source": [
    "!qiime longitudinal pairwise-differences \\\n",
    "  --m-metadata-file metadata_malesrt.txt \\\n",
    "  --m-metadata-file dada2_malesrt/core-metrics-dada2_results_filtered10/bray_curtis_pcoa_results.qza \\\n",
    "  --p-metric 'Axis 1' \\\n",
    "  --p-group-column Treatment \\\n",
    "  --p-state-column PrePost \\\n",
    "  --p-state-1 1 \\\n",
    "  --p-state-2 2 \\\n",
    "  --p-individual-id-column StudyID \\\n",
    "  --p-replicate-handling random \\\n",
    "  --o-visualization malesrt-q2-brayaxis1_pairwise-differences.qzv"
   ]
  },
  {
   "cell_type": "code",
   "execution_count": null,
   "metadata": {},
   "outputs": [],
   "source": [
    "!qiime longitudinal pairwise-differences \\\n",
    "  --m-metadata-file metadata_malesrt.txt \\\n",
    "  --m-metadata-file dada2_malesrt/core-metrics-dada2_results_filtered10/unweighted_unifrac_pcoa_results.qza \\\n",
    "  --p-metric 'Axis 1' \\\n",
    "  --p-group-column Treatment \\\n",
    "  --p-state-column PrePost \\\n",
    "  --p-state-1 1 \\\n",
    "  --p-state-2 2 \\\n",
    "  --p-individual-id-column StudyID \\\n",
    "  --p-replicate-handling random \\\n",
    "  --o-visualization malesrt-q2-unwUFaxis1_pairwise-differences.qzv"
   ]
  },
  {
   "cell_type": "markdown",
   "metadata": {},
   "source": [
    "## ds-fdr differential abundance testing\n",
    "\n",
    "Run [ds-fdr plugin](https://forum.qiime2.org/t/q2-dsfdr-community-tutorial/5559) within the qiime2 to identify differentially abundant features within the CMR dataset, based on the treatment or timepoint/treatment categories. For this, we would have to first filter feature-table to include only part of the samples that represent specific categories of interest, since the ds-fdr method can test differences between two groups only.\n",
    "\n",
    "Filter the dada2 (filtered10, rarefied) feature-table to include only samples from (1) 'first' and (2) 'second' capture during the CMR (see the PrePost_f metadata column). Also, we will make use of filtered tables that include only samples from (3) CL (radioactively uncontaminated) and (4) CH (radioactively contaminated) areas within the Chernobyl Exclusion Zone, Ukraine. These tables were filtered during the preparation for the core features analysis described above."
   ]
  },
  {
   "cell_type": "code",
   "execution_count": null,
   "metadata": {},
   "outputs": [],
   "source": [
    "#retain only samples in group 'first' from the column PrePost_f\n",
    "!qiime feature-table filter-samples \\\n",
    "  --i-table dada2_malesrt/core-metrics-dada2_results_filtered10/rarefied_table.qza \\\n",
    "  --m-metadata-file metadata-malesrt.txt \\\n",
    "  --p-where \"PrePost_f='first'\" \\\n",
    "  --o-filtered-table dada2_malesrt/filtered10-even-select-tables/first-dada2-filtered10-even-table.qza\n",
    "  \n",
    "#visualize and double-check the filtering\n",
    "!qiime feature-table summarize \\\n",
    "  --i-table dada2_malesrt/filtered10-even-select-tables/first-dada2-filtered10-even-table.qza \\\n",
    "  --o-visualization dada2_malesrt/filtered10-even-select-tables/first-dada2-filtered10-even-table.qzv \\\n",
    "  --m-sample-metadata-file metadata-malesrt.txt"
   ]
  },
  {
   "cell_type": "code",
   "execution_count": null,
   "metadata": {},
   "outputs": [],
   "source": [
    "#retain only samples in group 'second' from the column PrePost_f\n",
    "!qiime feature-table filter-samples \\\n",
    "  --i-table dada2_malesrt/core-metrics-dada2_results_filtered10/rarefied_table.qza \\\n",
    "  --m-metadata-file metadata-malesrt.txt \\\n",
    "  --p-where \"PrePost_f='second'\" \\\n",
    "  --o-filtered-table dada2_malesrt/filtered10-even-select-tables/second-dada2-filtered10-even-table.qza\n",
    "  \n",
    "#visualize and double-check the filtering\n",
    "!qiime feature-table summarize \\\n",
    "  --i-table dada2_malesrt/filtered10-even-select-tables/second-dada2-filtered10-even-table.qza \\\n",
    "  --o-visualization dada2_malesrt/filtered10-even-select-tables/second-dada2-filtered10-even-table.qzv \\\n",
    "  --m-sample-metadata-file metadata-malesrt.txt"
   ]
  },
  {
   "cell_type": "markdown",
   "metadata": {},
   "source": [
    "Note that prior to run the ds-fdr analysis we first need to install the ds-fdr as a qiime2 dev plugin via pip install (see more details [here](https://forum.qiime2.org/t/q2-dsfdr-community-tutorial/5559)). Note, this was run with the qiime2 version change from 2018.2 to 2018.11."
   ]
  },
  {
   "cell_type": "code",
   "execution_count": null,
   "metadata": {},
   "outputs": [],
   "source": [
    "!qiime dsfdr permutation-fdr --i-table first-dada2-filtered10-even-table.qza --m-metadata-file metadata-malesrt-pre-f.txt --m-metadata-column 'Treatment' --p-alpha 0.1 --o-visualization malesrt-dada2-filt10-even-first-a01-dsfdr.qzv --verbose\n",
    "!qiime dsfdr permutation-fdr --i-table clean-dada2-filtered10-even-table.qza --m-metadata-file metadata-malesrt-cl-f.txt --m-metadata-column 'PrePost_f' --p-alpha 0.1 --o-visualization malesrt-dada2-filt10-even-clean-a01-dsfdr.qzv --verbose\n",
    "!qiime dsfdr permutation-fdr --i-table hot-dada2-filtered10-even-table.qza --m-metadata-file metadata-malesrt-ch-f.txt --m-metadata-column 'PrePost_f' --p-alpha 0.1 --o-visualization malesrt-dada2-filt10-even-hot-a01-dsfdr.qzv --verbose"
   ]
  },
  {
   "cell_type": "markdown",
   "metadata": {},
   "source": [
    "## balance trees analysis in gneiss\n",
    "\n",
    "Run the balance trees analysis for detecting community-wide perturbations based on environmental parameters, using gneiss qiime2 plugin (see more details [here](https://docs.qiime2.org/2018.8/tutorials/gneiss/)). Note, this was run with the qiime2 version change from 2018.2 to 2018.8.\n",
    "\n",
    "Also, prior to running the balance trees analysis, apply [contingency-based](https://docs.qiime2.org/2018.8/tutorials/filtering/) filtering to the original (non-rarefied) dada2 feature-table, and exclude features that are found in less than 5 samples. This is necessary to reduce 'noise' by filtering out low-abundance features and features that are rarely found in the dataset."
   ]
  },
  {
   "cell_type": "code",
   "execution_count": null,
   "metadata": {},
   "outputs": [],
   "source": [
    "#filter features that are present in less than 5 samples\n",
    "!qiime feature-table filter-features \\\n",
    "  --i-table dada2_malesrt/malesrt2_table-dada2.qza \\\n",
    "  --p-min-samples 5 \\\n",
    "  --o-filtered-table dada2_malesrt/malesrt2_table-dada2_smpl5-table.qza\n",
    "  \n",
    "#summarize filtered feature-table\n",
    "!qiime feature-table summarize \\\n",
    "  --i-table dada2_malesrt/malesrt2_table-dada2_smpl5-table.qza \\\n",
    "  --o-visualization dada2_malesrt/malesrt2_table-dada2_smpl5-table.qzv \\\n",
    "  --m-sample-metadata-file metadata-malesrt.txt"
   ]
  },
  {
   "cell_type": "markdown",
   "metadata": {},
   "source": [
    "Construct trees to define partitions of features that co-occur (*i.e.* balances), based on the unsupervised hierarchical clustering (via Ward’s clustering)."
   ]
  },
  {
   "cell_type": "code",
   "execution_count": null,
   "metadata": {},
   "outputs": [],
   "source": [
    "!qiime gneiss correlation-clustering \\\n",
    "  --i-table dada2_malesrt/malesrt2_table-dada2_smpl5-table.qza \\\n",
    "  --o-clustering dada2_malesrt/balance-trees-smpl5/hierarchy.qza\n",
    "  \n",
    "!qiime gneiss ilr-hierarchical \\\n",
    "  --i-table dada2_malesrt/malesrt2_table-dada2_smpl5-table.qza \\\n",
    "  --i-tree dada2_malesrt/balance-trees-smpl5/hierarchy.qza \\\n",
    "  --o-balances dada2_malesrt/balance-trees-smpl5/balances.qza"
   ]
  },
  {
   "cell_type": "code",
   "execution_count": null,
   "metadata": {},
   "outputs": [],
   "source": [
    "!qiime gneiss ols-regression \\\n",
    "  --p-formula \"PrePostCLCH_f\" \\\n",
    "  --i-table dada2_malesrt/balance-trees-smpl5/balances.qza \\\n",
    "  --i-tree dada2_malesrt/balance-trees-smpl5/hierarchy.qza \\\n",
    "  --m-metadata-file metadata-malesrt.txt \\\n",
    "  --o-visualization dada2_malesrt/balance-trees-smpl5/regression_summary.qzv"
   ]
  },
  {
   "cell_type": "markdown",
   "metadata": {},
   "source": [
    "We additionally use the LME instead of the OLS linear regression, to include the StudyID as a random factor (as the observations aren't independent)."
   ]
  },
  {
   "cell_type": "code",
   "execution_count": null,
   "metadata": {},
   "outputs": [],
   "source": [
    "#try also to see how the inclusion of the StudyID AND LME modeling will impact the results\n",
    "!qiime gneiss lme-regression \\\n",
    "  --p-formula \"PrePostCLCH_f\" \\\n",
    "  --i-table dada2_malesrt/balance-trees-smpl5/balances.qza \\\n",
    "  --i-tree dada2_malesrt/balance-trees-smpl5/hierarchy.qza \\\n",
    "  --m-metadata-file metadata-malesrt.txt \\\n",
    "  --p-groups StudyID \\\n",
    "  --o-visualization dada2_malesrt/balance-trees-smpl5/lme-regression_summary-studyid-test.qzv"
   ]
  },
  {
   "cell_type": "markdown",
   "metadata": {},
   "source": [
    "While the coefficients and the p-values come in agreement between the regression methods, we would still prefer to use the OLS as it allows to evaluate the effect of each covariate by looking at R2diff. See some discussion details along the topic [here](https://forum.qiime2.org/t/clustering-and-regression-analysis-using-q2-gneiss/4211/14)."
   ]
  },
  {
   "cell_type": "code",
   "execution_count": null,
   "metadata": {},
   "outputs": [],
   "source": [
    "!qiime gneiss dendrogram-heatmap \\\n",
    "  --i-table dada2_malesrt/malesrt2_table-dada2_smpl5-table.qza \\\n",
    "  --i-tree dada2_malesrt/balance-trees-smpl5/hierarchy.qza \\\n",
    "  --m-metadata-file metadata-malesrt.txt \\\n",
    "  --m-metadata-column PrePostCLCH_f \\\n",
    "  --p-color-map viridis \\\n",
    "  --o-visualization dada2_malesrt/balance-trees-smpl5/heatmap-virdis.qzv"
   ]
  },
  {
   "cell_type": "code",
   "execution_count": null,
   "metadata": {},
   "outputs": [],
   "source": [
    "!qiime gneiss balance-taxonomy \\\n",
    "  --i-table dada2_malesrt/malesrt2_table-dada2_smpl5-table.qza \\\n",
    "  --i-tree dada2_malesrt/balance-trees-smpl5/hierarchy.qza \\\n",
    "  --i-taxonomy dada2_malesrt/malesrt2_dada2_taxonomy.qza \\\n",
    "  --p-taxa-level 4 \\\n",
    "  --p-balance-name 'y0' \\\n",
    "  --m-metadata-file metadata-malesrt.txt \\\n",
    "  --m-metadata-column PrePostCLCH_f \\\n",
    "  --o-visualization dada2_malesrt/balance-trees-smpl5/y0_taxa_summaryL4.qzv"
   ]
  },
  {
   "cell_type": "markdown",
   "metadata": {},
   "source": [
    "Construct trees to define partitions of features that co-occur (*i.e.* balances), based on the gradient clustering using the absorbed radiation doses: (1) from external radiation (TLD-based) (2) internal radiation, and (3) total radiation exposure for each bank vole individual."
   ]
  },
  {
   "cell_type": "code",
   "execution_count": null,
   "metadata": {},
   "outputs": [],
   "source": [
    "#external radiation (TLD-based) based balances\n",
    "!qiime gneiss gradient-clustering \\\n",
    "  --i-table dada2_malesrt/malesrt2_table-dada2_smpl5-table.qza \\\n",
    "  --m-gradient-file metadata-malesrt.txt \\\n",
    "  --m-gradient-column ExternalDoseTLD \\\n",
    "  --o-clustering dada2_malesrt/balance-trees-smpl5/gradient-hierarchy.qza"
   ]
  },
  {
   "cell_type": "code",
   "execution_count": null,
   "metadata": {},
   "outputs": [],
   "source": [
    "!qiime gneiss ilr-hierarchical \\\n",
    "  --i-table dada2_malesrt/malesrt2_table-dada2_smpl5-table.qza \\\n",
    "  --i-tree dada2_malesrt/balance-trees-smpl5/gradient-hierarchy.qza \\\n",
    "  --o-balances dada2_malesrt/balance-trees-smpl5/gradient-balances.qza"
   ]
  },
  {
   "cell_type": "code",
   "execution_count": null,
   "metadata": {},
   "outputs": [],
   "source": [
    "!qiime gneiss ols-regression \\\n",
    "  --p-formula \"PrePostCLCH_f\" \\\n",
    "  --i-table dada2_malesrt/balance-trees-smpl5/gradient-balances.qza \\\n",
    "  --i-tree dada2_malesrt/balance-trees-smpl5/gradient-hierarchy.qza \\\n",
    "  --m-metadata-file metadata-malesrt.txt \\\n",
    "  --o-visualization dada2_malesrt/balance-trees-smpl5/gradient-regression_summary.qzv"
   ]
  },
  {
   "cell_type": "code",
   "execution_count": null,
   "metadata": {},
   "outputs": [],
   "source": [
    "!qiime gneiss dendrogram-heatmap \\\n",
    "  --i-table dada2_malesrt/malesrt2_table-dada2_smpl5-table.qza \\\n",
    "  --i-tree dada2_malesrt/balance-trees-smpl5/gradient-hierarchy.qza \\\n",
    "  --m-metadata-file metadata-malesrt.txt \\\n",
    "  --m-metadata-column PrePostCLCH_f \\\n",
    "  --p-color-map viridis \\\n",
    "  --o-visualization dada2_malesrt/balance-trees-smpl5/gradient-heatmap-virdis.qzv"
   ]
  },
  {
   "cell_type": "code",
   "execution_count": null,
   "metadata": {},
   "outputs": [],
   "source": [
    "!qiime gneiss balance-taxonomy \\\n",
    "  --i-table dada2_malesrt/malesrt2_table-dada2_smpl5-table.qza \\\n",
    "  --i-tree dada2_malesrt/balance-trees-smpl5/gradient-hierarchy.qza \\\n",
    "  --i-taxonomy dada2_malesrt/malesrt2_dada2_taxonomy.qza \\\n",
    "  --p-taxa-level 4 \\\n",
    "  --p-balance-name 'y4' \\\n",
    "  --m-metadata-file metadata-malesrt.txt \\\n",
    "  --m-metadata-column PrePostCLCH_f \\\n",
    "  --o-visualization dada2_malesrt/balance-trees-smpl5/gradient-y4_taxa_summaryL4.qzv"
   ]
  },
  {
   "cell_type": "markdown",
   "metadata": {},
   "source": [
    "Run the same analysis, but using the internal dose estimates (derived from the gamma spectrometer measurments for each bank vole individual) data for bank voles during the CMR."
   ]
  },
  {
   "cell_type": "code",
   "execution_count": null,
   "metadata": {},
   "outputs": [],
   "source": [
    "#internal radiation based balances\n",
    "!qiime gneiss gradient-clustering \\\n",
    "  --i-table dada2_malesrt/malesrt2_table-dada2_smpl5-table.qza \\\n",
    "  --m-gradient-file metadata-malesrt.txt \\\n",
    "  --m-gradient-column InternalDose \\\n",
    "  --o-clustering dada2_malesrt/balance-trees-smpl5/interndose-gradient-hierarchy.qza"
   ]
  },
  {
   "cell_type": "code",
   "execution_count": null,
   "metadata": {},
   "outputs": [],
   "source": [
    "!qiime gneiss ilr-hierarchical \\\n",
    "--i-table dada2_malesrt/malesrt2_table-dada2_smpl5-table.qza \\\n",
    "--i-tree dada2_malesrt/balance-trees-smpl5/interndose-gradient-hierarchy.qza \\\n",
    "--o-balances dada2_malesrt/balance-trees-smpl5/interndose-gradient-balances.qza"
   ]
  },
  {
   "cell_type": "code",
   "execution_count": null,
   "metadata": {},
   "outputs": [],
   "source": [
    "!qiime gneiss ols-regression \\\n",
    "--p-formula \"PrePostCLCH_f\" \\\n",
    "--i-table dada2_malesrt/balance-trees-smpl5/interndose-gradient-balances.qza \\\n",
    "--i-tree dada2_malesrt/balance-trees-smpl5/interndose-gradient-hierarchy.qza \\\n",
    "--m-metadata-file metadata-malesrt.txt \\\n",
    "--o-visualization dada2_malesrt/balance-trees-smpl5/interndose-gradient-regression_summary.qzv"
   ]
  },
  {
   "cell_type": "code",
   "execution_count": null,
   "metadata": {},
   "outputs": [],
   "source": [
    "!qiime gneiss dendrogram-heatmap \\\n",
    "--i-table dada2_malesrt/malesrt2_table-dada2_smpl5-table.qza \\\n",
    "--i-tree dada2_malesrt/balance-trees-smpl5/interndose-gradient-hierarchy.qza \\\n",
    "--m-metadata-file metadata-malesrt.txt \\\n",
    "--m-metadata-column PrePostCLCH_f \\\n",
    "--p-color-map viridis \\\n",
    "--o-visualization dada2_malesrt/balance-trees-smpl5/interndose-gradient-heatmap-virdis.qzv"
   ]
  },
  {
   "cell_type": "code",
   "execution_count": null,
   "metadata": {},
   "outputs": [],
   "source": [
    "!qiime gneiss balance-taxonomy \\\n",
    "--i-table dada2_malesrt/malesrt2_table-dada2_smpl5-table.qza \\\n",
    "--i-tree dada2_malesrt/balance-trees-smpl5/interndose-gradient-hierarchy.qza \\\n",
    "--i-taxonomy dada2_malesrt/malesrt2_dada2_taxonomy.qza \\\n",
    "--p-taxa-level 4 \\\n",
    "--p-balance-name 'y4' \\\n",
    "--m-metadata-file metadata-malesrt.txt \\\n",
    "--m-metadata-column PrePostCLCH_f \\\n",
    "--o-visualization dada2_malesrt/balance-trees-smpl5/interndose-gradient-y4_taxa_summaryL4.qzv"
   ]
  },
  {
   "cell_type": "markdown",
   "metadata": {},
   "source": [
    "Run the same analysis, but using the total radiation dose estimates (derived from the sum of both external and internal radiation exposure estimates for each bank vole individual) data for bank voles during the CMR."
   ]
  },
  {
   "cell_type": "code",
   "execution_count": null,
   "metadata": {},
   "outputs": [],
   "source": [
    "#total radiation based balances\n",
    "!qiime gneiss gradient-clustering \\\n",
    "  --i-table dada2_malesrt/malesrt2_table-dada2_smpl5-table.qza \\\n",
    "  --m-gradient-file metadata-malesrt.txt \\\n",
    "  --m-gradient-column TotalDose \\\n",
    "  --o-clustering dada2_malesrt/balance-trees-smpl5/totdose-gradient-hierarchy.qza"
   ]
  },
  {
   "cell_type": "code",
   "execution_count": null,
   "metadata": {},
   "outputs": [],
   "source": [
    "!qiime gneiss ilr-hierarchical \\\n",
    "  --i-table dada2_malesrt/malesrt2_table-dada2_smpl5-table.qza \\\n",
    "  --i-tree dada2_malesrt/balance-trees-smpl5/totdose-gradient-hierarchy.qza \\\n",
    "  --o-balances dada2_malesrt/balance-trees-smpl5/totdose-gradient-balances.qza"
   ]
  },
  {
   "cell_type": "code",
   "execution_count": null,
   "metadata": {},
   "outputs": [],
   "source": [
    "!qiime gneiss ols-regression \\\n",
    "  --p-formula \"PrePostCLCH_f\" \\\n",
    "  --i-table dada2_malesrt/balance-trees-smpl5/totdose-gradient-balances.qza \\\n",
    "  --i-tree dada2_malesrt/balance-trees-smpl5/totdose-gradient-hierarchy.qza \\\n",
    "  --m-metadata-file metadata-malesrt.txt \\\n",
    "  --o-visualization dada2_malesrt/balance-trees-smpl5/totdose-gradient-regression_summary.qzv"
   ]
  },
  {
   "cell_type": "code",
   "execution_count": null,
   "metadata": {},
   "outputs": [],
   "source": [
    "!qiime gneiss dendrogram-heatmap \\\n",
    "  --i-table dada2_malesrt/malesrt2_table-dada2_smpl5-table.qza \\\n",
    "  --i-tree dada2_malesrt/balance-trees-smpl5/totdose-gradient-hierarchy.qza \\\n",
    "  --m-metadata-file metadata-malesrt.txt \\\n",
    "  --m-metadata-column PrePostCLCH_f \\\n",
    "  --p-color-map viridis \\\n",
    "  --o-visualization dada2_malesrt/balance-trees-smpl5/totdose-gradient-heatmap-virdis.qzv"
   ]
  },
  {
   "cell_type": "code",
   "execution_count": null,
   "metadata": {},
   "outputs": [],
   "source": [
    "!qiime gneiss balance-taxonomy \\\n",
    "  --i-table dada2_malesrt/malesrt2_table-dada2_smpl5-table.qza \\\n",
    "  --i-tree dada2_malesrt/balance-trees-smpl5/totdose-gradient-hierarchy.qza \\\n",
    "  --i-taxonomy dada2_malesrt/malesrt2_dada2_taxonomy.qza \\\n",
    "  --p-taxa-level 4 \\\n",
    "  --p-balance-name 'y5' \\\n",
    "  --m-metadata-file metadata-malesrt.txt \\\n",
    "  --m-metadata-column PrePostCLCH_f \\\n",
    "  --o-visualization dada2_malesrt/balance-trees-smpl5/totdose-gradient-y5_taxa_summaryL4.qzv"
   ]
  },
  {
   "cell_type": "markdown",
   "metadata": {},
   "source": [
    "Plot and explore the balance trees data remotely in R. We directly unpacked the balances from the resulting *qza* files from the *ILR transform* command, and plot the interesting balances separately in R using density and scatter plots (in the manuscript, see figures 3c,d). The commands below describe how to get the raw balances log ratios out of the biom balance file."
   ]
  },
  {
   "cell_type": "code",
   "execution_count": null,
   "metadata": {},
   "outputs": [],
   "source": [
    "!biom convert -i y0-feature-table.biom -o y0-feature-table.txt --to-tsv --header-key taxonomy --table-type 'OTU table'\n",
    "!biom convert -i y5-feature-table.biom -o y5-feature-table.txt --to-tsv --header-key taxonomy --table-type 'OTU table'\n",
    "!biom convert -i y4-extdoseTLD-feature-table.biom -o y4-extdoseTLD-feature-table.txt --to-tsv --header-key taxonomy --table-type 'OTU table'\n",
    "!biom convert -i y4-interndose-feature-table.biom -o y4-interndose-feature-table.txt --to-tsv --header-key taxonomy --table-type 'OTU table'"
   ]
  },
  {
   "cell_type": "markdown",
   "metadata": {},
   "source": [
    "Filter out reads assiged to the S24-7 family from the feature-table and repeat some key beta-diversity analyses for the **JAE revisions** (10/2019). The results were archived in the SI Methods file and the SI figure 3."
   ]
  },
  {
   "cell_type": "code",
   "execution_count": null,
   "metadata": {},
   "outputs": [],
   "source": [
    "!qiime taxa filter-table \\\n",
    "  --i-table dada2_malesrt/malesrt2_table-dada2_filtered10-table.qza \\\n",
    "  --i-taxonomy dada2_malesrt/malesrt2_dada2_taxonomy.qza \\\n",
    "  --p-exclude S24-7 \\\n",
    "  --o-filtered-table dada2_malesrt/malesrt2_table-dada2_filtered10-table-no-S247.qza"
   ]
  },
  {
   "cell_type": "code",
   "execution_count": null,
   "metadata": {},
   "outputs": [],
   "source": [
    "!qiime feature-table summarize \\\n",
    "  --i-table dada2_malesrt/malesrt2_table-dada2_filtered10-table-no-S247.qza \\\n",
    "  --o-visualization dada2_malesrt/malesrt2_table-dada2_filtered10-table-no-S247.qzv \\\n",
    "  --m-sample-metadata-file metadata_malesrt.txt"
   ]
  },
  {
   "cell_type": "code",
   "execution_count": null,
   "metadata": {},
   "outputs": [],
   "source": [
    "!qiime diversity core-metrics-phylogenetic \\\n",
    "  --i-phylogeny dada2_malesrt/rooted-malesrt2_tree_dada2.qza \\\n",
    "  --i-table dada2_malesrt/malesrt2_table-dada2_filtered10-table-no-S247.qza \\\n",
    "  --p-sampling-depth 5984 \\\n",
    "  --m-metadata-file metadata_malesrt.txt \\\n",
    "  --output-dir dada2_malesrt/core-metrics-dada2_results_filtered10-filteredS247-even5984/"
   ]
  },
  {
   "cell_type": "code",
   "execution_count": null,
   "metadata": {},
   "outputs": [],
   "source": [
    "!qiime taxa barplot \\\n",
    "  --i-table dada2_malesrt/core-metrics-dada2_results_filtered10-filteredS247-even5984/rarefied_table.qza \\\n",
    "  --i-taxonomy dada2_malesrt/malesrt2_dada2_taxonomy.qza \\\n",
    "  --m-metadata-file metadata_malesrt.txt \\\n",
    "  --o-visualization dada2_malesrt/malesrt2_filtered10_filteredS247_even5984_dada2_taxa-bar-plots.qzv"
   ]
  },
  {
   "cell_type": "code",
   "execution_count": null,
   "metadata": {},
   "outputs": [],
   "source": [
    "!qiime longitudinal pairwise-differences \\\n",
    "  --m-metadata-file metadata_malesrt.txt \\\n",
    "  --m-metadata-file dada2_malesrt/core-metrics-dada2_results_filtered10-filteredS247-even5984/bray_curtis_pcoa_results.qza \\\n",
    "  --p-metric 'Axis 1' \\\n",
    "  --p-group-column Treatment \\\n",
    "  --p-state-column PrePost \\\n",
    "  --p-state-1 1 \\\n",
    "  --p-state-2 2 \\\n",
    "  --p-individual-id-column StudyID \\\n",
    "  --p-replicate-handling random \\\n",
    "  --o-visualization dada2_malesrt/malesrt-q2-brayaxis1_pairwise-differences-filteredS247.qzv"
   ]
  },
  {
   "cell_type": "code",
   "execution_count": null,
   "metadata": {},
   "outputs": [],
   "source": [
    "!qiime diversity beta-group-significance \\\n",
    "  --i-distance-matrix dada2_malesrt/core-metrics-dada2_results_filtered10-filteredS247-even5984/bray_curtis_distance_matrix.qza \\\n",
    "  --m-metadata-file metadata_malesrt.txt \\\n",
    "  --m-metadata-column PrePostCLCH_f \\\n",
    "  --o-visualization dada2_malesrt/bray-filteredS247-PrePostCLCH-significance.qzv \\\n",
    "  --p-pairwise"
   ]
  }
 ],
 "metadata": {
  "kernelspec": {
   "display_name": "Python 3",
   "language": "python",
   "name": "python3"
  },
  "language_info": {
   "codemirror_mode": {
    "name": "ipython",
    "version": 3
   },
   "file_extension": ".py",
   "mimetype": "text/x-python",
   "name": "python",
   "nbconvert_exporter": "python",
   "pygments_lexer": "ipython3",
   "version": "3.6.7"
  }
 },
 "nbformat": 4,
 "nbformat_minor": 2
}
